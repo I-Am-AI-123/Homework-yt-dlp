{
  "nbformat": 4,
  "nbformat_minor": 0,
  "metadata": {
    "colab": {
      "provenance": [],
      "authorship_tag": "ABX9TyPKEu5B1x1JDtUvTxmrOVaT",
      "include_colab_link": true
    },
    "kernelspec": {
      "name": "python3",
      "display_name": "Python 3"
    },
    "language_info": {
      "name": "python"
    }
  },
  "cells": [
    {
      "cell_type": "markdown",
      "metadata": {
        "id": "view-in-github",
        "colab_type": "text"
      },
      "source": [
        "<a href=\"https://colab.research.google.com/github/I-Am-AI-123/Homework-yt-dlp/blob/main/Homework_2.ipynb\" target=\"_parent\"><img src=\"https://colab.research.google.com/assets/colab-badge.svg\" alt=\"Open In Colab\"/></a>"
      ]
    },
    {
      "cell_type": "code",
      "source": [
        "!pip install yt_dlp\n",
        "import os\n",
        "from google.colab import drive\n",
        "import yt_dlp\n",
        "\n",
        "# Mount Google Drive\n",
        "drive.mount('/content/drive')\n",
        "\n",
        "# Function to download YouTube video\n",
        "def download_youtube_video(video_url, output_path):\n",
        "    ydl_opts = {\n",
        "        'format': 'bestvideo[ext=mp4]+bestaudio[ext=m4a]/best[ext=mp4]/best',\n",
        "        'outtmpl': os.path.join(output_path, '%(title)s.%(ext)s'),\n",
        "    }\n",
        "\n",
        "    try:\n",
        "        with yt_dlp.YoutubeDL(ydl_opts) as ydl:\n",
        "            ydl.download([video_url])\n",
        "        print(f\"Video from {video_url} downloaded successfully.\")\n",
        "        return True\n",
        "    except Exception as e:\n",
        "        print(f\"An error occurred while downloading {video_url}: {str(e)}\")\n",
        "        return False\n",
        "\n",
        "# Set output folder\n",
        "output_folder = \"/content/drive/MyDrive/YouTube_Downloads\"\n",
        "os.makedirs(output_folder, exist_ok=True)\n",
        "\n",
        "# Prompt the user for YouTube URLs\n",
        "video_urls = []\n",
        "while True:\n",
        "    url = input(\"Enter YouTube video URL (or type 'done' to finish): \").strip()\n",
        "    if url.lower() == 'done':\n",
        "        break\n",
        "    if url:\n",
        "        video_urls.append(url)\n",
        "\n",
        "# Download videos\n",
        "if video_urls:\n",
        "    for url in video_urls:\n",
        "        success = download_youtube_video(url, output_folder)\n",
        "        if not success:\n",
        "            print(f\"Failed to download video from {url}.\")\n",
        "else:\n",
        "    print(\"No URLs were provided.\")\n",
        "\n",
        "print(\"All downloads completed!\")\n"
      ],
      "metadata": {
        "id": "JVvBVSsrjdtI",
        "collapsed": true
      },
      "execution_count": null,
      "outputs": []
    }
  ]
}